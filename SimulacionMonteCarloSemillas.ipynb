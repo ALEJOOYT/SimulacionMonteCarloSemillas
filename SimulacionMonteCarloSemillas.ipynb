{
  "nbformat": 4,
  "nbformat_minor": 0,
  "metadata": {
    "colab": {
      "provenance": []
    },
    "kernelspec": {
      "name": "ir",
      "display_name": "R"
    },
    "language_info": {
      "name": "R"
    }
  },
  "cells": [
    {
      "cell_type": "markdown",
      "source": [
        "# <center>Escuela Militar de Ingeniería</center>\n",
        "<center>Ingeniería de Sistemas</center>\n",
        "<center><img src=\"https://i.servimg.com/u/f73/20/03/60/99/logo_i12.jpg\" width=\"300\"></center>\n",
        "<center>Estudiante: Zalles Merino Izai Alejandro</center>\n",
        "<center>Código SAGA: A27006-7</center>\n",
        "\n",
        "## <center>Docente: Ing. Angela Santos</center>\n",
        "## Fecha: 11 de Abril de 2025"
      ],
      "metadata": {
        "id": "sfyJuLFmpU0i"
      }
    },
    {
      "cell_type": "code",
      "execution_count": null,
      "metadata": {
        "id": "C9JDJEp6lOcm"
      },
      "outputs": [],
      "source": [
        "# Instalar paquetes necesarios\n",
        "if (!require(\"knitr\")) install.packages(\"knitr\", quiet = TRUE)\n",
        "library(knitr)"
      ]
    },
    {
      "cell_type": "markdown",
      "source": [
        "# Simulación Monte Carlo - Semillas"
      ],
      "metadata": {
        "id": "ZokeGcPYoE76"
      }
    },
    {
      "cell_type": "code",
      "source": [
        "# Paso 1: Tabla base de frecuencias y probabilidades\n",
        "categorias <- c(\"Buena\", \"Baja\", \"NoDesarrollada\")\n",
        "frecuenciaAbs <- c(5, 3, 2)\n",
        "frecuenciaRel <- frecuenciaAbs / sum(frecuenciaAbs)\n",
        "frecuenciaAcum <- cumsum(frecuenciaRel)\n",
        "costos <- c(7, 3, 0)"
      ],
      "metadata": {
        "id": "AFOcBFYkoCm0"
      },
      "execution_count": null,
      "outputs": []
    },
    {
      "cell_type": "code",
      "source": [
        "# Intervalos acumulados\n",
        "intervaloInferior <- c(0, head(frecuenciaAcum, -1))\n",
        "intervaloSuperior <- frecuenciaAcum\n",
        "tablaDistribucion <- data.frame(\n",
        "  Categoria = categorias,\n",
        "  FrecuenciaAbs = frecuenciaAbs,\n",
        "  FrecuenciaRel = round(frecuenciaRel, 2),\n",
        "  FrecuenciaAcum = round(frecuenciaAcum, 2),\n",
        "  CostoUnidad = costos,\n",
        "  Intervalo = paste0(sprintf(\"%.2f\", intervaloInferior), \" - \", sprintf(\"%.2f\", intervaloSuperior - 0.01))\n",
        ")\n",
        "cat(\"🟦 Tabla 1: Distribución de categorías\\n\")\n",
        "kable(tablaDistribucion)"
      ],
      "metadata": {
        "colab": {
          "base_uri": "https://localhost:8080/",
          "height": 156
        },
        "id": "YnX-KQsdoJHn",
        "outputId": "be5ec9b3-313b-4559-94eb-644b54d9e38e"
      },
      "execution_count": null,
      "outputs": [
        {
          "output_type": "stream",
          "name": "stdout",
          "text": [
            "🟦 Tabla 1: Distribución de categorías\n"
          ]
        },
        {
          "output_type": "display_data",
          "data": {
            "text/plain": [
              "\n",
              "\n",
              "|Categoria      | FrecuenciaAbs| FrecuenciaRel| FrecuenciaAcum| CostoUnidad|Intervalo   |\n",
              "|:--------------|-------------:|-------------:|--------------:|-----------:|:-----------|\n",
              "|Buena          |             5|           0.5|            0.5|           7|0.00 - 0.49 |\n",
              "|Baja           |             3|           0.3|            0.8|           3|0.50 - 0.79 |\n",
              "|NoDesarrollada |             2|           0.2|            1.0|           0|0.80 - 0.99 |"
            ]
          },
          "metadata": {}
        }
      ]
    },
    {
      "cell_type": "code",
      "source": [
        "# Paso 2: Simulación Monte Carlo (100 semillas)\n",
        "# Quitamos set.seed(123) para que los números sean realmente aleatorios\n",
        "numSemillas <- 100\n",
        "numerosAleatorios <- runif(numSemillas)"
      ],
      "metadata": {
        "id": "Oo5PHPl8oNHp"
      },
      "execution_count": null,
      "outputs": []
    },
    {
      "cell_type": "code",
      "source": [
        "# Corrección en la función de clasificación para usar los intervalos correctos\n",
        "ClasificarCategoria <- function(x) {\n",
        "  if (x < frecuenciaAcum[1]) {\n",
        "    return(categorias[1])  # Buena\n",
        "  } else if (x < frecuenciaAcum[2]) {\n",
        "    return(categorias[2])  # Baja\n",
        "  } else {\n",
        "    return(categorias[3])  # NoDesarrollada\n",
        "  }\n",
        "}\n",
        "categoriasSimuladas <- sapply(numerosAleatorios, ClasificarCategoria)"
      ],
      "metadata": {
        "id": "E7Y_lG63oPV4"
      },
      "execution_count": null,
      "outputs": []
    },
    {
      "cell_type": "code",
      "source": [
        "# Codificación One-Hot\n",
        "oneHot <- data.frame(\n",
        "  Buena = as.integer(categoriasSimuladas == \"Buena\"),\n",
        "  Baja = as.integer(categoriasSimuladas == \"Baja\"),\n",
        "  NoDesarrollada = as.integer(categoriasSimuladas == \"NoDesarrollada\")\n",
        ")\n",
        "tablaSimulacion <- data.frame(\n",
        "  Semilla = 1:numSemillas,\n",
        "  Aleatorio = round(numerosAleatorios, 4),\n",
        "  Categoria = categoriasSimuladas,\n",
        "  oneHot\n",
        ")\n",
        "cat(\"\\n🟦 Tabla 2: Simulación Monte Carlo (Todas las semillas)\\n\")\n",
        "kable(tablaSimulacion)  # Mostramos todas las semillas"
      ],
      "metadata": {
        "colab": {
          "base_uri": "https://localhost:8080/",
          "height": 1000
        },
        "id": "qsdqSjzloRvl",
        "outputId": "1c1cddfc-bb61-487d-cbf6-e86562f6a41e"
      },
      "execution_count": null,
      "outputs": [
        {
          "output_type": "stream",
          "name": "stdout",
          "text": [
            "\n",
            "🟦 Tabla 2: Simulación Monte Carlo (Todas las semillas)\n"
          ]
        },
        {
          "output_type": "display_data",
          "data": {
            "text/plain": [
              "\n",
              "\n",
              "| Semilla| Aleatorio|Categoria      | Buena| Baja| NoDesarrollada|\n",
              "|-------:|---------:|:--------------|-----:|----:|--------------:|\n",
              "|       1|    0.3536|Buena          |     1|    0|              0|\n",
              "|       2|    0.3664|Buena          |     1|    0|              0|\n",
              "|       3|    0.2871|Buena          |     1|    0|              0|\n",
              "|       4|    0.0800|Buena          |     1|    0|              0|\n",
              "|       5|    0.3655|Buena          |     1|    0|              0|\n",
              "|       6|    0.1780|Buena          |     1|    0|              0|\n",
              "|       7|    0.5361|Baja           |     0|    1|              0|\n",
              "|       8|    0.5039|Baja           |     0|    1|              0|\n",
              "|       9|    0.9450|NoDesarrollada |     0|    0|              1|\n",
              "|      10|    0.3413|Buena          |     1|    0|              0|\n",
              "|      11|    0.4647|Buena          |     1|    0|              0|\n",
              "|      12|    0.0825|Buena          |     1|    0|              0|\n",
              "|      13|    0.8601|NoDesarrollada |     0|    0|              1|\n",
              "|      14|    0.3957|Buena          |     1|    0|              0|\n",
              "|      15|    0.7359|Baja           |     0|    1|              0|\n",
              "|      16|    0.1717|Buena          |     1|    0|              0|\n",
              "|      17|    0.4548|Buena          |     1|    0|              0|\n",
              "|      18|    0.7702|Baja           |     0|    1|              0|\n",
              "|      19|    0.0626|Buena          |     1|    0|              0|\n",
              "|      20|    0.8151|NoDesarrollada |     0|    0|              1|\n",
              "|      21|    0.3011|Buena          |     1|    0|              0|\n",
              "|      22|    0.3647|Buena          |     1|    0|              0|\n",
              "|      23|    0.3121|Buena          |     1|    0|              0|\n",
              "|      24|    0.0374|Buena          |     1|    0|              0|\n",
              "|      25|    0.5188|Baja           |     0|    1|              0|\n",
              "|      26|    0.6790|Baja           |     0|    1|              0|\n",
              "|      27|    0.9032|NoDesarrollada |     0|    0|              1|\n",
              "|      28|    0.0255|Buena          |     1|    0|              0|\n",
              "|      29|    0.9891|NoDesarrollada |     0|    0|              1|\n",
              "|      30|    0.3029|Buena          |     1|    0|              0|\n",
              "|      31|    0.9391|NoDesarrollada |     0|    0|              1|\n",
              "|      32|    0.6876|Baja           |     0|    1|              0|\n",
              "|      33|    0.4470|Buena          |     1|    0|              0|\n",
              "|      34|    0.8165|NoDesarrollada |     0|    0|              1|\n",
              "|      35|    0.0395|Buena          |     1|    0|              0|\n",
              "|      36|    0.7390|Baja           |     0|    1|              0|\n",
              "|      37|    0.3487|Buena          |     1|    0|              0|\n",
              "|      38|    0.8293|NoDesarrollada |     0|    0|              1|\n",
              "|      39|    0.5355|Baja           |     0|    1|              0|\n",
              "|      40|    0.2745|Buena          |     1|    0|              0|\n",
              "|      41|    0.8009|NoDesarrollada |     0|    0|              1|\n",
              "|      42|    0.0916|Buena          |     1|    0|              0|\n",
              "|      43|    0.8321|NoDesarrollada |     0|    0|              1|\n",
              "|      44|    0.2769|Buena          |     1|    0|              0|\n",
              "|      45|    0.7531|Baja           |     0|    1|              0|\n",
              "|      46|    0.9642|NoDesarrollada |     0|    0|              1|\n",
              "|      47|    0.0815|Buena          |     1|    0|              0|\n",
              "|      48|    0.8544|NoDesarrollada |     0|    0|              1|\n",
              "|      49|    0.8022|NoDesarrollada |     0|    0|              1|\n",
              "|      50|    0.3852|Buena          |     1|    0|              0|\n",
              "|      51|    0.3276|Buena          |     1|    0|              0|\n",
              "|      52|    0.2049|Buena          |     1|    0|              0|\n",
              "|      53|    0.5694|Baja           |     0|    1|              0|\n",
              "|      54|    0.8881|NoDesarrollada |     0|    0|              1|\n",
              "|      55|    0.5297|Baja           |     0|    1|              0|\n",
              "|      56|    0.5870|Baja           |     0|    1|              0|\n",
              "|      57|    0.6657|Baja           |     0|    1|              0|\n",
              "|      58|    0.5299|Baja           |     0|    1|              0|\n",
              "|      59|    0.5098|Baja           |     0|    1|              0|\n",
              "|      60|    0.0162|Buena          |     1|    0|              0|\n",
              "|      61|    0.0477|Buena          |     1|    0|              0|\n",
              "|      62|    0.9294|NoDesarrollada |     0|    0|              1|\n",
              "|      63|    0.7693|Baja           |     0|    1|              0|\n",
              "|      64|    0.2011|Buena          |     1|    0|              0|\n",
              "|      65|    0.6503|Baja           |     0|    1|              0|\n",
              "|      66|    0.6538|Baja           |     0|    1|              0|\n",
              "|      67|    0.3953|Buena          |     1|    0|              0|\n",
              "|      68|    0.8123|NoDesarrollada |     0|    0|              1|\n",
              "|      69|    0.5470|Baja           |     0|    1|              0|\n",
              "|      70|    0.8851|NoDesarrollada |     0|    0|              1|\n",
              "|      71|    0.5533|Baja           |     0|    1|              0|\n",
              "|      72|    0.9060|NoDesarrollada |     0|    0|              1|\n",
              "|      73|    0.5875|Baja           |     0|    1|              0|\n",
              "|      74|    0.4235|Buena          |     1|    0|              0|\n",
              "|      75|    0.9496|NoDesarrollada |     0|    0|              1|\n",
              "|      76|    0.7090|Baja           |     0|    1|              0|\n",
              "|      77|    0.4133|Buena          |     1|    0|              0|\n",
              "|      78|    0.0184|Buena          |     1|    0|              0|\n",
              "|      79|    0.5667|Baja           |     0|    1|              0|\n",
              "|      80|    0.4901|Buena          |     1|    0|              0|\n",
              "|      81|    0.8787|NoDesarrollada |     0|    0|              1|\n",
              "|      82|    0.8129|NoDesarrollada |     0|    0|              1|\n",
              "|      83|    0.8541|NoDesarrollada |     0|    0|              1|\n",
              "|      84|    0.3679|Buena          |     1|    0|              0|\n",
              "|      85|    0.8739|NoDesarrollada |     0|    0|              1|\n",
              "|      86|    0.1513|Buena          |     1|    0|              0|\n",
              "|      87|    0.2818|Buena          |     1|    0|              0|\n",
              "|      88|    0.6667|Baja           |     0|    1|              0|\n",
              "|      89|    0.9774|NoDesarrollada |     0|    0|              1|\n",
              "|      90|    0.5827|Baja           |     0|    1|              0|\n",
              "|      91|    0.5266|Baja           |     0|    1|              0|\n",
              "|      92|    0.0608|Buena          |     1|    0|              0|\n",
              "|      93|    0.9690|NoDesarrollada |     0|    0|              1|\n",
              "|      94|    0.1202|Buena          |     1|    0|              0|\n",
              "|      95|    0.0884|Buena          |     1|    0|              0|\n",
              "|      96|    0.8808|NoDesarrollada |     0|    0|              1|\n",
              "|      97|    0.5084|Baja           |     0|    1|              0|\n",
              "|      98|    0.3375|Buena          |     1|    0|              0|\n",
              "|      99|    0.8943|NoDesarrollada |     0|    0|              1|\n",
              "|     100|    0.0320|Buena          |     1|    0|              0|"
            ]
          },
          "metadata": {}
        }
      ]
    },
    {
      "cell_type": "code",
      "source": [
        "# Paso 3: Resultados finales\n",
        "resumenCategorias <- c(\n",
        "  sum(oneHot$Buena),\n",
        "  sum(oneHot$Baja),\n",
        "  sum(oneHot$NoDesarrollada)\n",
        ")\n",
        "gananciaTotal <- resumenCategorias[1] * costos[1] +\n",
        "                 resumenCategorias[2] * costos[2] +\n",
        "                 resumenCategorias[3] * costos[3]\n",
        "\n",
        "tablaResumen <- data.frame(\n",
        "  Categoria = categorias,\n",
        "  Conteo = resumenCategorias,\n",
        "  Ganancia = c(\n",
        "    resumenCategorias[1] * costos[1],\n",
        "    resumenCategorias[2] * costos[2],\n",
        "    resumenCategorias[3] * costos[3]\n",
        "  )\n",
        ")\n",
        "cat(\"\\n🟦 Tabla 3: Resumen de resultados\\n\")\n",
        "kable(tablaResumen)\n",
        "cat(\"\\n💰 Ganancia total:\", gananciaTotal, \"Bs.\\n\")"
      ],
      "metadata": {
        "colab": {
          "base_uri": "https://localhost:8080/",
          "height": 208
        },
        "id": "75Ixf5PToT8w",
        "outputId": "a1db71b9-08ec-4d5a-d662-5facb836fda0"
      },
      "execution_count": null,
      "outputs": [
        {
          "output_type": "stream",
          "name": "stdout",
          "text": [
            "\n",
            "🟦 Tabla 3: Resumen de resultados\n"
          ]
        },
        {
          "output_type": "display_data",
          "data": {
            "text/plain": [
              "\n",
              "\n",
              "|Categoria      | Conteo| Ganancia|\n",
              "|:--------------|------:|--------:|\n",
              "|Buena          |     45|      315|\n",
              "|Baja           |     28|       84|\n",
              "|NoDesarrollada |     27|        0|"
            ]
          },
          "metadata": {}
        },
        {
          "output_type": "stream",
          "name": "stdout",
          "text": [
            "\n",
            "💰 Ganancia total: 399 Bs.\n"
          ]
        }
      ]
    },
    {
      "cell_type": "markdown",
      "source": [
        "Los resultados muestran que la categoría \"Buena\" tiene el mayor número de semillas siendo 45 y genera la mayor ganancia de 315 Bs. Le sigue la categoría \"Baja\" con 28 semillas y una ganancia de 84 Bs. Por último, la categoría \"No Desarrollada\" tiene 27 semillas, pero no genera ganancias. En total, la ganancia alcanzada es de 399 Bs., lo que indica que las categorías \"Buena\" y \"Baja\" contribuyen positivamente a las ganancias, mientras que \"No Desarrollada\" no aporta."
      ],
      "metadata": {
        "id": "zVLo9LUCoyqH"
      }
    }
  ]
}